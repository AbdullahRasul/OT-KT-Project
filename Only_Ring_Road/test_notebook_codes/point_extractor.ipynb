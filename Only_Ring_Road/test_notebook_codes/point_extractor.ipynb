{
 "cells": [
  {
   "cell_type": "code",
   "execution_count": null,
   "metadata": {},
   "outputs": [],
   "source": [
    "import numpy as np\n",
    "import os\n",
    "import time\n",
    "import matplotlib.pyplot as plt\n",
    "import networkx as nx"
   ]
  },
  {
   "cell_type": "code",
   "execution_count": null,
   "metadata": {},
   "outputs": [],
   "source": [
    "#getting paths of each file and saving them in a list to extract coordinates later on.\n",
    "\n",
    "path = os.path.abspath('').split('point_extractor.py')[0]\n",
    "\n",
    "lane_file_list = []\n",
    "node_file_list = []\n",
    "for i in os.listdir(path):\n",
    "    if \"lane_\" in i:\n",
    "        lane_file_list.append(path +'/'+ i)\n",
    "    elif \"node_\" in i:\n",
    "        node_file_list.append(path + '/'+ i)"
   ]
  },
  {
   "cell_type": "code",
   "execution_count": null,
   "metadata": {},
   "outputs": [],
   "source": [
    "#printing paths of each file.\n",
    "#lane_file_list\n",
    "#node_file_list"
   ]
  },
  {
   "cell_type": "code",
   "execution_count": null,
   "metadata": {},
   "outputs": [],
   "source": [
    "#collecting x and y of edges from edges files\n",
    "\n",
    "lane_x_list = []\n",
    "lane_y_list = []\n",
    "for i in lane_file_list:\n",
    "    \n",
    "    fp = open(i, 'r')\n",
    "    x = []\n",
    "    y = []\n",
    "    while True:\n",
    "        line = fp.readline()\n",
    "        if not line:\n",
    "            break\n",
    "        x.append(float(line.split()[0]))\n",
    "        y.append(float(line.split()[1]))\n",
    "\n",
    "    lane_x_list.append(x)\n",
    "    lane_y_list.append(y)\n"
   ]
  },
  {
   "cell_type": "code",
   "execution_count": null,
   "metadata": {},
   "outputs": [],
   "source": [
    "#printing x and y coordinates of lanes\n",
    "#lane_x_list\n",
    "#lane_y_list"
   ]
  },
  {
   "cell_type": "code",
   "execution_count": null,
   "metadata": {},
   "outputs": [],
   "source": [
    "#collecting x and y of nodes forom nodes files.\n",
    "\n",
    "node_x_list = []\n",
    "node_y_list = []\n",
    "for i in node_file_list:\n",
    "    \n",
    "    fp = open(i, 'r')\n",
    "    x = []\n",
    "    y = []\n",
    "    while True:\n",
    "        line = fp.readline()\n",
    "        if not line:\n",
    "            break\n",
    "        x.append(float(line.split()[0]))\n",
    "        y.append(float(line.split()[1]))\n",
    "\n",
    "    node_x_list.append(x)\n",
    "    node_y_list.append(y)"
   ]
  },
  {
   "cell_type": "code",
   "execution_count": null,
   "metadata": {},
   "outputs": [],
   "source": [
    "#printing x and y coordinates of lanes\n",
    "#node_x_list\n",
    "node_y_list"
   ]
  },
  {
   "cell_type": "code",
   "execution_count": null,
   "metadata": {},
   "outputs": [],
   "source": [
    "plt.figure()\n",
    "for i in range(len(lane_x_list)):\n",
    "    plt.plot(lane_x_list[i], lane_y_list[i])\n",
    "    plt.text(lane_x_list[i][10], lane_y_list[i][10], lane_file_list[i].split('\\\\')[-1].split('.')[0], fontsize = 2)\n",
    "for i in range(len(node_x_list)):\n",
    "    plt.plot(node_x_list[i], node_y_list[i], 'b*-')\n",
    "    plt.text(node_x_list[i][10], node_y_list[i][10], node_file_list[i].split('\\\\')[-1].split('.')[0], fontsize = 2)"
   ]
  },
  {
   "cell_type": "code",
   "execution_count": null,
   "metadata": {},
   "outputs": [],
   "source": [
    "plt.figure()\n",
    "plt.plot(lane_x_list[1],lane_y_list[1])"
   ]
  },
  {
   "cell_type": "code",
   "execution_count": null,
   "metadata": {},
   "outputs": [],
   "source": [
    "def create_graph(x_coordinates, y_coordinates):\n",
    "    graph = nx.Graph()\n",
    "\n",
    "    # Add nodes to the graph\n",
    "    for i, (x, y) in enumerate(zip(x_coordinates, y_coordinates)):\n",
    "        graph.add_node(i, x=x, y=y)\n",
    "\n",
    "    # Add edges to the graph\n",
    "    for i in range(len(x_coordinates) - 1):\n",
    "        distance = calculate_distance(x_coordinates[i], y_coordinates[i], x_coordinates[i+1], y_coordinates[i+1])\n",
    "        graph.add_edge(i, i+1, weight=distance)\n",
    "\n",
    "    return graph\n",
    "\n",
    "def calculate_distance(x1, y1, x2, y2):\n",
    "    return ((x2 - x1) ** 2 + (y2 - y1) ** 2) ** 0.5\n",
    "\n"
   ]
  },
  {
   "cell_type": "code",
   "execution_count": null,
   "metadata": {},
   "outputs": [],
   "source": [
    "# Example x and y coordinates\n",
    "x_coordinates1 = lane_x_list[0]\n",
    "y_coordinates1 = lane_y_list[0]\n",
    "\n",
    "# Create the graph\n",
    "graph1 = create_graph(x_coordinates1, y_coordinates1)\n",
    "\n",
    "# Draw the graph\n",
    "pos1 = {node: (graph1.nodes[node]['x'], graph1.nodes[node]['y']) for node in graph1.nodes()}\n",
    "nx.draw(graph1, pos=pos1, with_labels=True, node_color='lightblue', node_size=50, edge_color='gray',font_size=6)\n",
    "\n",
    "# Show the plot\n",
    "plt.show()\n",
    "plt.figure()\n",
    "plt.plot(lane_x_list[0],lane_y_list[0])"
   ]
  },
  {
   "cell_type": "code",
   "execution_count": null,
   "metadata": {},
   "outputs": [],
   "source": [
    "# Example x and y coordinates\n",
    "x_coordinates2 = lane_x_list[1]\n",
    "y_coordinates2 = lane_y_list[1]\n",
    "\n",
    "# Create the graph\n",
    "graph2 = create_graph(x_coordinates2, y_coordinates2)\n",
    "\n",
    "# Draw the graph\n",
    "pos2 = {node: (graph2.nodes[node]['x'], graph2.nodes[node]['y']) for node in graph2.nodes()}\n",
    "nx.draw(graph2, pos=pos2, with_labels=True, node_color='lightblue', node_size=50, edge_color='gray',font_size=6)\n",
    "\n",
    "# Show the plot\n",
    "plt.show()\n",
    "plt.figure()\n",
    "plt.plot(lane_x_list[1],lane_y_list[1])"
   ]
  },
  {
   "cell_type": "code",
   "execution_count": null,
   "metadata": {},
   "outputs": [],
   "source": [
    "print(graph2.edges())"
   ]
  },
  {
   "cell_type": "code",
   "execution_count": null,
   "metadata": {},
   "outputs": [],
   "source": [
    "# Example x and y coordinates\n",
    "x_coordinates3 = lane_x_list[2]\n",
    "y_coordinates3 = lane_y_list[2]\n",
    "\n",
    "# Create the graph\n",
    "graph3 = create_graph(x_coordinates3, y_coordinates3)\n",
    "\n",
    "# Draw the graph\n",
    "pos3 = {node: (graph3.nodes[node]['x'], graph3.nodes[node]['y']) for node in graph3.nodes()}\n",
    "nx.draw(graph3, pos=pos3, with_labels=True, node_color='lightblue', node_size=50, edge_color='gray',font_size=6)\n",
    "\n",
    "# Show the plot\n",
    "plt.show()\n",
    "plt.figure()\n",
    "plt.plot(lane_x_list[2],lane_y_list[2])"
   ]
  },
  {
   "cell_type": "code",
   "execution_count": null,
   "metadata": {},
   "outputs": [],
   "source": [
    "# Example x and y coordinates\n",
    "x_coordinates4 = lane_x_list[3]\n",
    "y_coordinates4 = lane_y_list[3]\n",
    "\n",
    "# Create the graph\n",
    "graph4 = create_graph(x_coordinates4, y_coordinates4)\n",
    "\n",
    "# Draw the graph\n",
    "pos4 = {node: (graph4.nodes[node]['x'], graph4.nodes[node]['y']) for node in graph4.nodes()}\n",
    "nx.draw(graph4, pos=pos4, with_labels=True, node_color='lightblue', node_size=50, edge_color='gray',font_size=6)\n",
    "\n",
    "# Show the plot\n",
    "\n",
    "plt.show()\n",
    "\n",
    "plt.figure()\n",
    "plt.plot(lane_x_list[3],lane_y_list[3])"
   ]
  },
  {
   "cell_type": "code",
   "execution_count": null,
   "metadata": {},
   "outputs": [],
   "source": [
    "# Example x and y coordinates\n",
    "x_coordinates5 = lane_x_list[4]\n",
    "y_coordinates5 = lane_y_list[4]\n",
    "\n",
    "# Create the graph\n",
    "graph5 = create_graph(x_coordinates5, y_coordinates5)\n",
    "\n",
    "# Draw the graph\n",
    "pos5 = {node: (graph5.nodes[node]['x'], graph5.nodes[node]['y']) for node in graph5.nodes()}\n",
    "nx.draw(graph5, pos=pos5, with_labels=True, node_color='lightblue', node_size=50, edge_color='gray',font_size=6)\n",
    "\n",
    "# Show the plot\n",
    "\n",
    "plt.show()\n",
    "\n",
    "plt.figure()\n",
    "plt.plot(lane_x_list[4],lane_y_list[4])"
   ]
  },
  {
   "cell_type": "code",
   "execution_count": null,
   "metadata": {},
   "outputs": [],
   "source": [
    "# Example x and y coordinates\n",
    "x_coordinates6 = lane_x_list[5]\n",
    "y_coordinates6 = lane_y_list[5]\n",
    "\n",
    "# Create the graph\n",
    "graph6 = create_graph(x_coordinates6, y_coordinates6)\n",
    "\n",
    "# Draw the graph\n",
    "pos6 = {node: (graph6.nodes[node]['x'], graph6.nodes[node]['y']) for node in graph6.nodes()}\n",
    "nx.draw(graph6, pos=pos6, with_labels=True, node_color='lightblue', node_size=50, edge_color='gray',font_size=6)\n",
    "\n",
    "# Show the plot\n",
    "\n",
    "plt.show()\n",
    "\n",
    "plt.figure()\n",
    "plt.plot(lane_x_list[5],lane_y_list[5])"
   ]
  },
  {
   "cell_type": "code",
   "execution_count": null,
   "metadata": {},
   "outputs": [],
   "source": [
    "# Example x and y coordinates\n",
    "x_coordinates7 = lane_x_list[6]\n",
    "y_coordinates7 = lane_y_list[6]\n",
    "\n",
    "# Create the graph\n",
    "graph7 = create_graph(x_coordinates7, y_coordinates7)\n",
    "\n",
    "# Draw the graph\n",
    "pos7 = {node: (graph7.nodes[node]['x'], graph7.nodes[node]['y']) for node in graph7.nodes()}\n",
    "nx.draw(graph7, pos=pos7, with_labels=True, node_color='lightblue', node_size=50, edge_color='gray',font_size=6)\n",
    "\n",
    "# Show the plot\n",
    "\n",
    "plt.show()\n",
    "\n",
    "plt.figure()\n",
    "plt.plot(lane_x_list[6],lane_y_list[6])"
   ]
  },
  {
   "cell_type": "code",
   "execution_count": null,
   "metadata": {},
   "outputs": [],
   "source": [
    "# Example x and y coordinates\n",
    "x_coordinates8 = lane_x_list[7]\n",
    "y_coordinates8 = lane_y_list[7]\n",
    "\n",
    "# Create the graph\n",
    "graph8 = create_graph(x_coordinates8, y_coordinates8)\n",
    "\n",
    "# Draw the graph\n",
    "pos8 = {node: (graph8.nodes[node]['x'], graph8.nodes[node]['y']) for node in graph8.nodes()}\n",
    "nx.draw(graph8, pos=pos8, with_labels=True, node_color='lightblue', node_size=50, edge_color='gray',font_size=6)\n",
    "\n",
    "# Show the plot\n",
    "\n",
    "plt.show()\n",
    "\n",
    "plt.figure()\n",
    "plt.plot(lane_x_list[7],lane_y_list[7])"
   ]
  },
  {
   "cell_type": "code",
   "execution_count": null,
   "metadata": {},
   "outputs": [],
   "source": [
    "len(x_coordinates2)"
   ]
  },
  {
   "cell_type": "code",
   "execution_count": null,
   "metadata": {},
   "outputs": [],
   "source": [
    "len(y_coordinates2)"
   ]
  },
  {
   "cell_type": "code",
   "execution_count": null,
   "metadata": {},
   "outputs": [],
   "source": [
    "combined_x_coordinates = x_coordinates3+x_coordinates2+x_coordinates1+x_coordinates4+x_coordinates5+x_coordinates6+x_coordinates7+x_coordinates8\n",
    "\n",
    "combined_y_coordinates = y_coordinates3+y_coordinates2+y_coordinates1+y_coordinates4+y_coordinates5+y_coordinates6+y_coordinates7+y_coordinates8\n",
    "\n"
   ]
  },
  {
   "cell_type": "code",
   "execution_count": null,
   "metadata": {},
   "outputs": [],
   "source": [
    "graph_c = create_graph(combined_x_coordinates, combined_y_coordinates)\n",
    "\n",
    "# Draw the graph\n",
    "pos_c = {node: (graph_c.nodes[node]['x'], graph_c.nodes[node]['y']) for node in graph_c.nodes()}\n",
    "nx.draw(graph_c,pos=pos_c, with_labels=True, node_color='lightblue', node_size=50, edge_color='gray',font_size=6)\n",
    "\n",
    "# Show the plot\n",
    "\n",
    "plt.show()\n",
    "\n",
    "plt.figure()\n"
   ]
  },
  {
   "cell_type": "code",
   "execution_count": null,
   "metadata": {},
   "outputs": [],
   "source": [
    "#nodes files coordinates\n",
    "xn_coordinates1 =node_x_list[0]\n",
    "yn_coordinates1 = node_y_list[0]\n",
    "\n",
    "xn_coordinates2 = node_x_list[1]\n",
    "yn_coordinates2 = node_y_list[1]\n",
    "\n",
    "xn_coordinates3 = node_x_list[2]\n",
    "yn_coordinates3 = node_y_list[2]\n",
    "\n",
    "xn_coordinates4 = node_x_list[3]\n",
    "yn_coordinates4 = node_y_list[3]\n",
    "\n",
    "xn_coordinates5 = node_x_list[4]\n",
    "yn_coordinates5 = node_y_list[4]\n",
    "\n",
    "\n",
    "graphn1 = create_graph(xn_coordinates1, yn_coordinates1)\n",
    "graphn2 = create_graph(xn_coordinates2, yn_coordinates2)\n",
    "graphn3 = create_graph(xn_coordinates3, yn_coordinates3)\n",
    "graphn4 = create_graph(xn_coordinates4, yn_coordinates4)\n",
    "graphn5 = create_graph(xn_coordinates5, yn_coordinates5)\n",
    "\n",
    "\n",
    "posn1 = {node: (graphn1.nodes[node]['x'], graphn1.nodes[node]['y']) for node in graphn1.nodes()}\n",
    "posn2 = {node: (graphn2.nodes[node]['x'], graphn2.nodes[node]['y']) for node in graphn2.nodes()}\n",
    "posn3 = {node: (graphn3.nodes[node]['x'], graphn3.nodes[node]['y']) for node in graphn3.nodes()}\n",
    "posn4 = {node: (graphn4.nodes[node]['x'], graphn4.nodes[node]['y']) for node in graphn4.nodes()}\n",
    "posn5 = {node: (graphn5.nodes[node]['x'], graphn5.nodes[node]['y']) for node in graphn5.nodes()}\n",
    "\n",
    "\n"
   ]
  },
  {
   "cell_type": "code",
   "execution_count": null,
   "metadata": {},
   "outputs": [],
   "source": [
    "nx.draw(graphn1, pos=posn1, with_labels=True, node_color='lightblue', node_size=50, edge_color='gray',font_size=6)"
   ]
  },
  {
   "cell_type": "code",
   "execution_count": null,
   "metadata": {},
   "outputs": [],
   "source": [
    "nx.draw(graphn2, pos=posn2, with_labels=True, node_color='lightblue', node_size=50, edge_color='gray',font_size=6)\n"
   ]
  },
  {
   "cell_type": "code",
   "execution_count": null,
   "metadata": {},
   "outputs": [],
   "source": [
    "nx.draw(graphn3, pos=posn3, with_labels=True, node_color='lightblue', node_size=50, edge_color='gray',font_size=6)\n"
   ]
  },
  {
   "cell_type": "code",
   "execution_count": null,
   "metadata": {},
   "outputs": [],
   "source": [
    "\n",
    "nx.draw(graphn4, pos=posn4, with_labels=True, node_color='lightblue', node_size=50, edge_color='gray',font_size=6)\n"
   ]
  },
  {
   "cell_type": "code",
   "execution_count": null,
   "metadata": {},
   "outputs": [],
   "source": [
    "nx.draw(graphn5, pos=posn5, with_labels=True, node_color='lightblue', node_size=50, edge_color='gray',font_size=6)"
   ]
  },
  {
   "cell_type": "code",
   "execution_count": null,
   "metadata": {},
   "outputs": [],
   "source": [
    "merged_graph = nx.compose_all([graph6, graphn4,graph2,graphn3, graph5,graphn1, graph4,graphn5,graph3,graphn2,graph1,graph7,graph8])"
   ]
  },
  {
   "cell_type": "code",
   "execution_count": null,
   "metadata": {},
   "outputs": [],
   "source": [
    "pos_c = {node: (merged_graph.nodes[node]['x'], merged_graph.nodes[node]['y']) for node in merged_graph.nodes()}\n",
    "nx.draw(merged_graph,pos=pos_c, with_labels=True, node_color='lightblue', node_size=50, edge_color='gray',font_size=6)"
   ]
  },
  {
   "cell_type": "code",
   "execution_count": null,
   "metadata": {},
   "outputs": [],
   "source": [
    "merged_graph = nx.compose_all([graph6, graphn4,graph2,graphn3, graph5,graphn1, graph4,graphn5,graph3,graphn2,graph1,graph7,graph8])"
   ]
  },
  {
   "cell_type": "code",
   "execution_count": null,
   "metadata": {},
   "outputs": [],
   "source": [
    "nodes_list1 = list(graph6.nodes(data=True))\n",
    "nodes_list2 = list(graphn4.nodes(data=True))\n",
    "nodes_list3 = list(graph2.nodes(data=True))\n",
    "nodes_list4 = list(graphn3.nodes(data=True))\n",
    "nodes_list5 = list(graph5.nodes(data=True))\n",
    "nodes_list6 = list(graphn1.nodes(data=True))\n",
    "nodes_list7 = list(graph4.nodes(data=True))\n",
    "nodes_list8 = list(graphn5.nodes(data=True))\n",
    "nodes_list9 = list(graph3.nodes(data=True))\n",
    "nodes_list10 = list(graphn2.nodes(data=True))\n",
    "nodes_list11 = list(graph1.nodes(data=True))\n",
    "nodes_list12 = list(graph7.nodes(data=True))\n",
    "nodes_list13 = list(graph8.nodes(data=True))\n",
    "\n",
    "all_nodes_x = []\n",
    "all_nodes_y = []"
   ]
  },
  {
   "cell_type": "code",
   "execution_count": null,
   "metadata": {},
   "outputs": [],
   "source": [
    "for node, attributes in nodes_list1:\n",
    "    all_nodes_x.append(attributes['x'])\n",
    "for node, attributes in nodes_list2:\n",
    "    all_nodes_x.append(attributes['x'])\n",
    "for node, attributes in nodes_list3:\n",
    "    all_nodes_x.append(attributes['x'])\n",
    "for node, attributes in nodes_list4:\n",
    "    all_nodes_x.append(attributes['x'])\n",
    "for node, attributes in nodes_list5:\n",
    "    all_nodes_x.append(attributes['x'])\n",
    "for node, attributes in nodes_list6:\n",
    "    all_nodes_x.append(attributes['x'])\n",
    "for node, attributes in nodes_list7:\n",
    "    all_nodes_x.append(attributes['x'])\n",
    "for node, attributes in nodes_list8:\n",
    "    all_nodes_x.append(attributes['x'])\n",
    "for node, attributes in nodes_list9:\n",
    "    all_nodes_x.append(attributes['x'])\n",
    "for node, attributes in nodes_list10:\n",
    "    all_nodes_x.append(attributes['x'])\n",
    "for node, attributes in nodes_list11:\n",
    "    all_nodes_x.append(attributes['x'])\n",
    "for node, attributes in nodes_list12:\n",
    "    all_nodes_x.append(attributes['x'])\n",
    "for node, attributes in nodes_list13:\n",
    "    all_nodes_x.append(attributes['x'])"
   ]
  },
  {
   "cell_type": "code",
   "execution_count": null,
   "metadata": {},
   "outputs": [],
   "source": [
    "for node, attributes in nodes_list1:\n",
    "    all_nodes_y.append(attributes['y'])\n",
    "for node, attributes in nodes_list2:\n",
    "    all_nodes_y.append(attributes['y'])\n",
    "for node, attributes in nodes_list3:\n",
    "    all_nodes_y.append(attributes['y'])\n",
    "for node, attributes in nodes_list4:\n",
    "    all_nodes_y.append(attributes['y'])\n",
    "for node, attributes in nodes_list5:\n",
    "    all_nodes_y.append(attributes['y'])\n",
    "for node, attributes in nodes_list6:\n",
    "    all_nodes_y.append(attributes['y'])\n",
    "for node, attributes in nodes_list7:\n",
    "    all_nodes_y.append(attributes['y'])\n",
    "for node, attributes in nodes_list8:\n",
    "    all_nodes_y.append(attributes['y'])\n",
    "for node, attributes in nodes_list9:\n",
    "    all_nodes_y.append(attributes['y'])\n",
    "for node, attributes in nodes_list10:\n",
    "    all_nodes_y.append(attributes['y'])\n",
    "for node, attributes in nodes_list11:\n",
    "    all_nodes_y.append(attributes['y'])\n",
    "for node, attributes in nodes_list12:\n",
    "    all_nodes_y.append(attributes['y'])\n",
    "for node, attributes in nodes_list13:\n",
    "    all_nodes_y.append(attributes['y'])"
   ]
  },
  {
   "cell_type": "code",
   "execution_count": null,
   "metadata": {},
   "outputs": [],
   "source": [
    "\n",
    "# Create the graph\n",
    "graph_all = create_graph(all_nodes_x, all_nodes_y)\n",
    "\n",
    "# Draw the graph\n",
    "pos_all = {node: (graph_all.nodes[node]['x'], graph_all.nodes[node]['y']) for node in graph_all.nodes()}\n",
    "nx.draw(graph_all, pos=pos_all, with_labels=True, node_color='lightblue', node_size=50, edge_color='gray',font_size=6)\n",
    "\n",
    "# Show the plot\n",
    "\n",
    "plt.show()\n"
   ]
  },
  {
   "cell_type": "code",
   "execution_count": null,
   "metadata": {},
   "outputs": [],
   "source": [
    "graph_all.edges(data=True)"
   ]
  },
  {
   "cell_type": "code",
   "execution_count": null,
   "metadata": {},
   "outputs": [],
   "source": [
    "list(graph_all.neighbors(295))"
   ]
  },
  {
   "cell_type": "code",
   "execution_count": null,
   "metadata": {},
   "outputs": [],
   "source": [
    "graphs = [list(graph6.nodes(data=True)) + list(graphn4.nodes(data=True))+ list(graph2.nodes(data=True)) + list(graphn3.nodes(data=True)) +  list(graph5.nodes(data=True)) +list(graphn1.nodes(data=True))+list(graph4.nodes(data=True))+list(graphn5.nodes(data=True))+list(graph3.nodes(data=True))+list(graphn2.nodes(data=True))+list(graph1.nodes(data=True))+list(graph7.nodes(data=True))+list(graph8.nodes(data=True))]\n"
   ]
  },
  {
   "cell_type": "code",
   "execution_count": null,
   "metadata": {},
   "outputs": [],
   "source": [
    "graphs"
   ]
  },
  {
   "cell_type": "code",
   "execution_count": null,
   "metadata": {},
   "outputs": [],
   "source": [
    "    \n",
    "fp = open('combined_nodes.txt', 'r')\n",
    "x = []\n",
    "y = []\n",
    "while True:\n",
    "    line = fp.readline()\n",
    "    if not line:\n",
    "        break\n",
    "    x.append(float(line.split()[0]))\n",
    "    y.append(float(line.split()[1]))\n",
    "\n",
    "lane_x_list.append(x)\n",
    "lane_y_list.append(y)"
   ]
  },
  {
   "cell_type": "code",
   "execution_count": null,
   "metadata": {},
   "outputs": [],
   "source": [
    "len(x)"
   ]
  },
  {
   "cell_type": "code",
   "execution_count": null,
   "metadata": {},
   "outputs": [],
   "source": [
    "len(y)"
   ]
  },
  {
   "cell_type": "code",
   "execution_count": null,
   "metadata": {},
   "outputs": [],
   "source": [
    "graph_c = create_graph(x, y)\n",
    "\n",
    "# Draw the graph\n",
    "pos_c = {node: (graph_c.nodes[node]['x'], graph_c.nodes[node]['y']) for node in graph_c.nodes()}\n",
    "nx.draw(graph_c,pos=pos_c, with_labels=True, node_color='lightblue', node_size=50, edge_color='gray',font_size=6)"
   ]
  },
  {
   "cell_type": "code",
   "execution_count": null,
   "metadata": {},
   "outputs": [],
   "source": [
    "import math\n",
    "# Create a new graph\n",
    "\n",
    "graph = nx.Graph()\n",
    "\n",
    "# Add nodes with x and y coordinates as attributes\n",
    "for i in range(len(x)):\n",
    "    x, y = x[i], y[i]\n",
    "    graph.add_node(i, x=x, y=y)\n",
    "\n",
    "# Calculate distances and add edges with their distances\n",
    "for i in range(len(x)):\n",
    "    for j in range(i + 1, len(x)):\n",
    "        x1, y1 = x[i], y[i]\n",
    "        x2, y2 = x[j], y[j]\n",
    "        distance = math.sqrt((x2 - x1) ** 2 + (y2 - y1) ** 2)\n",
    "\n",
    "        # Add the edge with its distance as an attribute\n",
    "        graph.add_edge(i, j, distance=distance)\n",
    "\n",
    "# Print the nodes and edges of the graph\n",
    "print(\"Nodes:\")\n",
    "for node, attributes in graph.nodes(data=True):\n",
    "    x, y = attributes[\"x\"], attributes[\"y\"]\n",
    "    print(f\"Node {node}: X = {x}, Y = {y}\")\n",
    "\n",
    "print(\"Edges:\")\n",
    "for u, v, attributes in graph.edges(data=True):\n",
    "    distance = attributes[\"distance\"]\n",
    "    print(f\"{u} -- {v} : Distance = {distance}\")"
   ]
  },
  {
   "cell_type": "code",
   "execution_count": null,
   "metadata": {},
   "outputs": [],
   "source": [
    "pos_c = {node: (graph.nodes[node]['x'], graph.nodes[node]['y']) for node in graph.nodes()}\n",
    "nx.draw(graph,pos=pos_c, with_labels=True, node_color='lightblue', node_size=50, edge_color='gray',font_size=6)"
   ]
  },
  {
   "cell_type": "code",
   "execution_count": null,
   "metadata": {},
   "outputs": [],
   "source": [
    "graph.nodes(data=True)"
   ]
  },
  {
   "cell_type": "code",
   "execution_count": null,
   "metadata": {},
   "outputs": [],
   "source": [
    "import networkx.readwrite\n",
    "networkx.nx.readwrite.write_shp(graph1, 'graph1.shp')"
   ]
  },
  {
   "cell_type": "code",
   "execution_count": null,
   "metadata": {},
   "outputs": [],
   "source": [
    "import networkx as nx\n",
    "\n",
    "# Create a NetworkX graph (replace with your own graph)\n",
    "graph = nx.Graph()\n",
    "graph.add_edge(1, 2)\n",
    "graph.add_edge(2, 3)\n",
    "# Add more nodes and edges as needed\n",
    "\n",
    "# Specify the output path for the shapefile\n",
    "output_path = \"graph.shp\"\n",
    "\n",
    "# Export the graph as a shapefile\n",
    "nx.write_shp(graph, output_path)\n"
   ]
  },
  {
   "cell_type": "code",
   "execution_count": null,
   "metadata": {},
   "outputs": [],
   "source": [
    "import geopandas as gpd\n",
    "import pandas as pd\n",
    "gdf_nodes = gpd.GeoDataFrame(graph1.nodes(data=True))\n",
    "\n",
    "gdf_edges = gpd.GeoDataFrame([(u, v, d) for u, v, d in graph1.edges(data=True)])\n",
    "\n",
    "gdf = gpd.GeoDataFrame(pd.concat([gdf_nodes, gdf_edges]))\n",
    "\n",
    "output_path = \"graph.shp\"\n",
    "\n",
    "# Export the GeoDataFrame to a shapefile\n",
    "gdf.to_file(output_path)\n"
   ]
  },
  {
   "cell_type": "code",
   "execution_count": null,
   "metadata": {},
   "outputs": [],
   "source": [
    "all_x = []\n",
    "all_y = []"
   ]
  },
  {
   "cell_type": "code",
   "execution_count": null,
   "metadata": {},
   "outputs": [],
   "source": [
    "for i in lane_x_list:\n",
    "    for x in i:\n",
    "        all_x.append(x)\n",
    "\n",
    "for i in node_x_list:\n",
    "    for x in i:\n",
    "        all_x.append(x)"
   ]
  },
  {
   "cell_type": "code",
   "execution_count": null,
   "metadata": {},
   "outputs": [],
   "source": [
    "len(all_x)"
   ]
  },
  {
   "cell_type": "code",
   "execution_count": null,
   "metadata": {},
   "outputs": [],
   "source": [
    "for i in lane_y_list:\n",
    "    for x in i:\n",
    "        all_y.append(x)\n",
    "\n",
    "for i in node_y_list:\n",
    "    for x in i:\n",
    "        all_y.append(x)"
   ]
  },
  {
   "cell_type": "code",
   "execution_count": null,
   "metadata": {},
   "outputs": [],
   "source": [
    "len(all_y)"
   ]
  },
  {
   "cell_type": "code",
   "execution_count": null,
   "metadata": {},
   "outputs": [],
   "source": [
    "import shapefile"
   ]
  },
  {
   "cell_type": "code",
   "execution_count": null,
   "metadata": {},
   "outputs": [],
   "source": [
    "shp_writer = shapefile.Writer(\"output.shp\", shapeType=shapefile.POINT)\n",
    "\n",
    "# Create the fields for the shapefile\n",
    "shp_writer.field(\"ID\", \"N\", \"10\")  # Optional field, replace with your own fields\n",
    "\n",
    "# Loop through the coordinates and create shapefile features\n",
    "for i, (x, y) in enumerate(zip(all_x, all_y)):\n",
    "    # Create a shapefile feature with x and y coordinates\n",
    "    shp_writer.point(x, y)\n",
    "    shp_writer.record(i)  # Record the feature attributes (optional)\n",
    "\n",
    "# Save the shapefile\n",
    "shp_writer.close()"
   ]
  },
  {
   "cell_type": "code",
   "execution_count": null,
   "metadata": {},
   "outputs": [],
   "source": [
    "import csv\n",
    "\n",
    "\n",
    "output_path = \"output.csv\"\n",
    "\n",
    "# Combine the x and y coordinates into a list of tuples\n",
    "coords = list(zip(all_x, all_y))\n",
    "\n",
    "# Write the coordinates to the CSV file\n",
    "with open(output_path, 'w', newline='') as csv_file:\n",
    "    writer = csv.writer(csv_file)\n",
    "    writer.writerow(['x', 'y'])  # Write header row\n",
    "    writer.writerows(coords)     # Write coordinate data"
   ]
  },
  {
   "cell_type": "code",
   "execution_count": null,
   "metadata": {},
   "outputs": [],
   "source": [
    "all_x"
   ]
  },
  {
   "cell_type": "code",
   "execution_count": null,
   "metadata": {},
   "outputs": [],
   "source": [
    "import osmnx as ox"
   ]
  },
  {
   "cell_type": "code",
   "execution_count": null,
   "metadata": {},
   "outputs": [],
   "source": [
    "ox.save_graph_shapefile(graph1, 'output1')"
   ]
  },
  {
   "cell_type": "code",
   "execution_count": null,
   "metadata": {},
   "outputs": [],
   "source": [
    "from pyproj import CRS"
   ]
  },
  {
   "cell_type": "code",
   "execution_count": null,
   "metadata": {},
   "outputs": [],
   "source": [
    "crs = CRS.from_epsg(4326)\n",
    "graph1.graph['crs'] = crs"
   ]
  },
  {
   "cell_type": "code",
   "execution_count": null,
   "metadata": {},
   "outputs": [],
   "source": [
    "output_path = 'graph.csv'\n",
    "\n",
    "# Export nodes and edges to the CSV file\n",
    "with open(output_path, 'w', newline='') as csvfile:\n",
    "    writer = csv.writer(csvfile)\n",
    "    writer.writerow(['node', 'x', 'y'])\n",
    "    for node, data in graph1.nodes(data=True):\n",
    "        writer.writerow([node, data['x'], data['y']])\n",
    "    writer.writerow(['source', 'target','distance'])\n",
    "    for source, target, data in graph1.edges(data=True):\n",
    "        writer.writerow([source, target,data['weight']])"
   ]
  },
  {
   "cell_type": "code",
   "execution_count": null,
   "metadata": {},
   "outputs": [],
   "source": [
    "import networkx as nx\n",
    "import geopandas as gpd\n",
    "from shapely.geometry import LineString\n",
    "\n",
    "\n",
    "# Convert the NetworkX graph to a GeoDataFrame\n",
    "gdf = gpd.GeoDataFrame(graph1.edges, columns=['source', 'target'])\n",
    "\n",
    "# Create LineString geometry from node coordinates\n",
    "gdf['geometry'] = [LineString([(graph1.nodes[node]['x'], graph1.nodes[node]['y']) for node in edge]) for edge in gdf.values]\n",
    "\n",
    "# Add edge attributes to the GeoDataFrame\n",
    "for edge in graph1.edges:\n",
    "    source, target = edge\n",
    "    attributes = graph1.edges[edge]\n",
    "    for attr_name, attr_value in attributes.items():\n",
    "        gdf.loc[(gdf['source'] == source) & (gdf['target'] == target), attr_name] = attr_value\n",
    "\n",
    "# Set the active geometry\n",
    "gdf.set_geometry('geometry', inplace=True)\n",
    "\n",
    "# Save the GeoDataFrame as a shapefile\n",
    "output_shapefile = 'graph1.shp'\n",
    "gdf.to_file(output_shapefile)\n"
   ]
  },
  {
   "cell_type": "code",
   "execution_count": 26,
   "metadata": {},
   "outputs": [
    {
     "name": "stderr",
     "output_type": "stream",
     "text": [
      "/tmp/ipykernel_11318/225391616.py:10: FutureWarning: You are adding a column named 'geometry' to a GeoDataFrame constructed without an active geometry column. Currently, this automatically sets the active geometry column to 'geometry' but in the future that will no longer happen. Instead, either provide geometry to the GeoDataFrame constructor (GeoDataFrame(... geometry=GeoSeries()) or use `set_geometry('geometry')` to explicitly set the active geometry column.\n",
      "  edges_gdf['geometry'] = [LineString([(graph1.nodes[node]['x'], graph1.nodes[node]['y']) for node in edge]) for edge in edges_gdf.values]\n"
     ]
    },
    {
     "ename": "ValueError",
     "evalue": "too many values to unpack (expected 2)",
     "output_type": "error",
     "traceback": [
      "\u001b[0;31m---------------------------------------------------------------------------\u001b[0m",
      "\u001b[0;31mValueError\u001b[0m                                Traceback (most recent call last)",
      "Cell \u001b[0;32mIn[26], line 13\u001b[0m\n\u001b[1;32m     10\u001b[0m edges_gdf[\u001b[39m'\u001b[39m\u001b[39mgeometry\u001b[39m\u001b[39m'\u001b[39m] \u001b[39m=\u001b[39m [LineString([(graph1\u001b[39m.\u001b[39mnodes[node][\u001b[39m'\u001b[39m\u001b[39mx\u001b[39m\u001b[39m'\u001b[39m], graph1\u001b[39m.\u001b[39mnodes[node][\u001b[39m'\u001b[39m\u001b[39my\u001b[39m\u001b[39m'\u001b[39m]) \u001b[39mfor\u001b[39;00m node \u001b[39min\u001b[39;00m edge]) \u001b[39mfor\u001b[39;00m edge \u001b[39min\u001b[39;00m edges_gdf\u001b[39m.\u001b[39mvalues]\n\u001b[1;32m     12\u001b[0m \u001b[39m# Add x and y attributes to the edges GeoDataFrame\u001b[39;00m\n\u001b[0;32m---> 13\u001b[0m edges_gdf[\u001b[39m'\u001b[39m\u001b[39mx1\u001b[39m\u001b[39m'\u001b[39m] \u001b[39m=\u001b[39m [graph1\u001b[39m.\u001b[39mnodes[source][\u001b[39m'\u001b[39m\u001b[39mx\u001b[39m\u001b[39m'\u001b[39m] \u001b[39mfor\u001b[39;00m source, _ \u001b[39min\u001b[39;00m edges_gdf\u001b[39m.\u001b[39mvalues]\n\u001b[1;32m     14\u001b[0m edges_gdf[\u001b[39m'\u001b[39m\u001b[39my1\u001b[39m\u001b[39m'\u001b[39m] \u001b[39m=\u001b[39m [graph1\u001b[39m.\u001b[39mnodes[source][\u001b[39m'\u001b[39m\u001b[39my\u001b[39m\u001b[39m'\u001b[39m] \u001b[39mfor\u001b[39;00m source, _ \u001b[39min\u001b[39;00m edges_gdf\u001b[39m.\u001b[39mvalues]\n\u001b[1;32m     15\u001b[0m edges_gdf[\u001b[39m'\u001b[39m\u001b[39mx2\u001b[39m\u001b[39m'\u001b[39m] \u001b[39m=\u001b[39m [G\u001b[39m.\u001b[39mnodes[target][\u001b[39m'\u001b[39m\u001b[39mx\u001b[39m\u001b[39m'\u001b[39m] \u001b[39mfor\u001b[39;00m _, target \u001b[39min\u001b[39;00m edges_gdf\u001b[39m.\u001b[39mvalues]\n",
      "Cell \u001b[0;32mIn[26], line 13\u001b[0m, in \u001b[0;36m<listcomp>\u001b[0;34m(.0)\u001b[0m\n\u001b[1;32m     10\u001b[0m edges_gdf[\u001b[39m'\u001b[39m\u001b[39mgeometry\u001b[39m\u001b[39m'\u001b[39m] \u001b[39m=\u001b[39m [LineString([(graph1\u001b[39m.\u001b[39mnodes[node][\u001b[39m'\u001b[39m\u001b[39mx\u001b[39m\u001b[39m'\u001b[39m], graph1\u001b[39m.\u001b[39mnodes[node][\u001b[39m'\u001b[39m\u001b[39my\u001b[39m\u001b[39m'\u001b[39m]) \u001b[39mfor\u001b[39;00m node \u001b[39min\u001b[39;00m edge]) \u001b[39mfor\u001b[39;00m edge \u001b[39min\u001b[39;00m edges_gdf\u001b[39m.\u001b[39mvalues]\n\u001b[1;32m     12\u001b[0m \u001b[39m# Add x and y attributes to the edges GeoDataFrame\u001b[39;00m\n\u001b[0;32m---> 13\u001b[0m edges_gdf[\u001b[39m'\u001b[39m\u001b[39mx1\u001b[39m\u001b[39m'\u001b[39m] \u001b[39m=\u001b[39m [graph1\u001b[39m.\u001b[39mnodes[source][\u001b[39m'\u001b[39m\u001b[39mx\u001b[39m\u001b[39m'\u001b[39m] \u001b[39mfor\u001b[39;00m source, _ \u001b[39min\u001b[39;00m edges_gdf\u001b[39m.\u001b[39mvalues]\n\u001b[1;32m     14\u001b[0m edges_gdf[\u001b[39m'\u001b[39m\u001b[39my1\u001b[39m\u001b[39m'\u001b[39m] \u001b[39m=\u001b[39m [graph1\u001b[39m.\u001b[39mnodes[source][\u001b[39m'\u001b[39m\u001b[39my\u001b[39m\u001b[39m'\u001b[39m] \u001b[39mfor\u001b[39;00m source, _ \u001b[39min\u001b[39;00m edges_gdf\u001b[39m.\u001b[39mvalues]\n\u001b[1;32m     15\u001b[0m edges_gdf[\u001b[39m'\u001b[39m\u001b[39mx2\u001b[39m\u001b[39m'\u001b[39m] \u001b[39m=\u001b[39m [G\u001b[39m.\u001b[39mnodes[target][\u001b[39m'\u001b[39m\u001b[39mx\u001b[39m\u001b[39m'\u001b[39m] \u001b[39mfor\u001b[39;00m _, target \u001b[39min\u001b[39;00m edges_gdf\u001b[39m.\u001b[39mvalues]\n",
      "\u001b[0;31mValueError\u001b[0m: too many values to unpack (expected 2)"
     ]
    }
   ],
   "source": [
    "import networkx as nx\n",
    "import geopandas as gpd\n",
    "from shapely.geometry import LineString\n",
    "\n",
    "\n",
    "# Convert the NetworkX graph to a GeoDataFrame\n",
    "edges_gdf = gpd.GeoDataFrame(graph1.edges, columns=['source', 'target'])\n",
    "\n",
    "# Create LineString geometry from node coordinates for edges\n",
    "edges_gdf['geometry'] = [LineString([(graph1.nodes[node]['x'], graph1.nodes[node]['y']) for node in edge]) for edge in edges_gdf.values]\n",
    "\n",
    "# Add x and y attributes to the edges GeoDataFrame\n",
    "edges_gdf['x1'] = [graph1.nodes[node]['x'] for node in edges_gdf['source']]\n",
    "edges_gdf['y1'] = [graph1.nodes[node]['y'] for node in edges_gdf['source']]\n",
    "edges_gdf['x2'] = [graph1.nodes[node]['x'] for node in edges_gdf['target']]\n",
    "edges_gdf['y2'] = [graph1.nodes[node]['y'] for node in edges_gdf['target']]\n",
    "\n",
    "# Save the GeoDataFrame as a shapefile\n",
    "output_shapefile = 'graph.shp'\n",
    "edges_gdf.to_file(output_shapefile)\n"
   ]
  },
  {
   "cell_type": "code",
   "execution_count": 22,
   "metadata": {},
   "outputs": [
    {
     "data": {
      "text/plain": [
       "NodeView((0, 1, 2, 3, 4, 5, 6, 7, 8, 9, 10, 11, 12, 13, 14, 15, 16, 17, 18, 19, 20, 21, 22, 23, 24, 25, 26, 27, 28, 29, 30, 31, 32, 33, 34))"
      ]
     },
     "execution_count": 22,
     "metadata": {},
     "output_type": "execute_result"
    }
   ],
   "source": [
    "graph1.nodes"
   ]
  },
  {
   "cell_type": "code",
   "execution_count": null,
   "metadata": {},
   "outputs": [],
   "source": []
  }
 ],
 "metadata": {
  "kernelspec": {
   "display_name": "Python 3",
   "language": "python",
   "name": "python3"
  },
  "language_info": {
   "codemirror_mode": {
    "name": "ipython",
    "version": 3
   },
   "file_extension": ".py",
   "mimetype": "text/x-python",
   "name": "python",
   "nbconvert_exporter": "python",
   "pygments_lexer": "ipython3",
   "version": "3.10.6"
  },
  "orig_nbformat": 4
 },
 "nbformat": 4,
 "nbformat_minor": 2
}
